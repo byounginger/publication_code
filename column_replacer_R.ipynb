{
 "cells": [
  {
   "cell_type": "markdown",
   "metadata": {},
   "source": [
    "# Useful trick to change values in one column based on occurrence of a string in another (in R)"
   ]
  },
  {
   "cell_type": "code",
   "execution_count": 1,
   "metadata": {},
   "outputs": [
    {
     "data": {
      "text/html": [
       "<table>\n",
       "<thead><tr><th scope=col>Name</th><th scope=col>Desc</th><th scope=col>Value</th></tr></thead>\n",
       "<tbody>\n",
       "\t<tr><td>a           </td><td>BUDGET=aslfj</td><td>ac          </td></tr>\n",
       "\t<tr><td>b           </td><td>asjkdf      </td><td>ab          </td></tr>\n",
       "\t<tr><td>c           </td><td>BUDGET=aslfj</td><td>cc          </td></tr>\n",
       "\t<tr><td>e           </td><td>hghjdjif    </td><td>            </td></tr>\n",
       "\t<tr><td>f           </td><td>ytyehdbhd   </td><td>cd          </td></tr>\n",
       "\t<tr><td>g           </td><td>BUDGET=aslfj</td><td>dc          </td></tr>\n",
       "\t<tr><td>h           </td><td>hgitue      </td><td>dfd         </td></tr>\n",
       "\t<tr><td>i           </td><td>hgntia      </td><td>tr          </td></tr>\n",
       "\t<tr><td>j           </td><td>BUDGET=aslfj</td><td>            </td></tr>\n",
       "</tbody>\n",
       "</table>\n"
      ],
      "text/latex": [
       "\\begin{tabular}{r|lll}\n",
       " Name & Desc & Value\\\\\n",
       "\\hline\n",
       "\t a            & BUDGET=aslfj & ac          \\\\\n",
       "\t b            & asjkdf       & ab          \\\\\n",
       "\t c            & BUDGET=aslfj & cc          \\\\\n",
       "\t e            & hghjdjif     &             \\\\\n",
       "\t f            & ytyehdbhd    & cd          \\\\\n",
       "\t g            & BUDGET=aslfj & dc          \\\\\n",
       "\t h            & hgitue       & dfd         \\\\\n",
       "\t i            & hgntia       & tr          \\\\\n",
       "\t j            & BUDGET=aslfj &             \\\\\n",
       "\\end{tabular}\n"
      ],
      "text/markdown": [
       "\n",
       "| Name | Desc | Value |\n",
       "|---|---|---|\n",
       "| a            | BUDGET=aslfj | ac           |\n",
       "| b            | asjkdf       | ab           |\n",
       "| c            | BUDGET=aslfj | cc           |\n",
       "| e            | hghjdjif     |              |\n",
       "| f            | ytyehdbhd    | cd           |\n",
       "| g            | BUDGET=aslfj | dc           |\n",
       "| h            | hgitue       | dfd          |\n",
       "| i            | hgntia       | tr           |\n",
       "| j            | BUDGET=aslfj |              |\n",
       "\n"
      ],
      "text/plain": [
       "  Name Desc         Value\n",
       "1 a    BUDGET=aslfj ac   \n",
       "2 b    asjkdf       ab   \n",
       "3 c    BUDGET=aslfj cc   \n",
       "4 e    hghjdjif          \n",
       "5 f    ytyehdbhd    cd   \n",
       "6 g    BUDGET=aslfj dc   \n",
       "7 h    hgitue       dfd  \n",
       "8 i    hgntia       tr   \n",
       "9 j    BUDGET=aslfj      "
      ]
     },
     "metadata": {},
     "output_type": "display_data"
    },
    {
     "data": {
      "text/html": [
       "<table>\n",
       "<thead><tr><th scope=col>Name</th><th scope=col>Desc</th><th scope=col>Value</th></tr></thead>\n",
       "<tbody>\n",
       "\t<tr><td>a           </td><td>BUDGET=aslfj</td><td>BUDGET=aslfj</td></tr>\n",
       "\t<tr><td>b           </td><td>asjkdf      </td><td>ab          </td></tr>\n",
       "\t<tr><td>c           </td><td>BUDGET=aslfj</td><td>BUDGET=aslfj</td></tr>\n",
       "\t<tr><td>e           </td><td>hghjdjif    </td><td>            </td></tr>\n",
       "\t<tr><td>f           </td><td>ytyehdbhd   </td><td>cd          </td></tr>\n",
       "\t<tr><td>g           </td><td>BUDGET=aslfj</td><td>BUDGET=aslfj</td></tr>\n",
       "\t<tr><td>h           </td><td>hgitue      </td><td>dfd         </td></tr>\n",
       "\t<tr><td>i           </td><td>hgntia      </td><td>tr          </td></tr>\n",
       "\t<tr><td>j           </td><td>BUDGET=aslfj</td><td>BUDGET=aslfj</td></tr>\n",
       "</tbody>\n",
       "</table>\n"
      ],
      "text/latex": [
       "\\begin{tabular}{r|lll}\n",
       " Name & Desc & Value\\\\\n",
       "\\hline\n",
       "\t a            & BUDGET=aslfj & BUDGET=aslfj\\\\\n",
       "\t b            & asjkdf       & ab          \\\\\n",
       "\t c            & BUDGET=aslfj & BUDGET=aslfj\\\\\n",
       "\t e            & hghjdjif     &             \\\\\n",
       "\t f            & ytyehdbhd    & cd          \\\\\n",
       "\t g            & BUDGET=aslfj & BUDGET=aslfj\\\\\n",
       "\t h            & hgitue       & dfd         \\\\\n",
       "\t i            & hgntia       & tr          \\\\\n",
       "\t j            & BUDGET=aslfj & BUDGET=aslfj\\\\\n",
       "\\end{tabular}\n"
      ],
      "text/markdown": [
       "\n",
       "| Name | Desc | Value |\n",
       "|---|---|---|\n",
       "| a            | BUDGET=aslfj | BUDGET=aslfj |\n",
       "| b            | asjkdf       | ab           |\n",
       "| c            | BUDGET=aslfj | BUDGET=aslfj |\n",
       "| e            | hghjdjif     |              |\n",
       "| f            | ytyehdbhd    | cd           |\n",
       "| g            | BUDGET=aslfj | BUDGET=aslfj |\n",
       "| h            | hgitue       | dfd          |\n",
       "| i            | hgntia       | tr           |\n",
       "| j            | BUDGET=aslfj | BUDGET=aslfj |\n",
       "\n"
      ],
      "text/plain": [
       "  Name Desc         Value       \n",
       "1 a    BUDGET=aslfj BUDGET=aslfj\n",
       "2 b    asjkdf       ab          \n",
       "3 c    BUDGET=aslfj BUDGET=aslfj\n",
       "4 e    hghjdjif                 \n",
       "5 f    ytyehdbhd    cd          \n",
       "6 g    BUDGET=aslfj BUDGET=aslfj\n",
       "7 h    hgitue       dfd         \n",
       "8 i    hgntia       tr          \n",
       "9 j    BUDGET=aslfj BUDGET=aslfj"
      ]
     },
     "metadata": {},
     "output_type": "display_data"
    }
   ],
   "source": [
    "# In R\n",
    "\n",
    "# Import from the url address (note the raw url from GitHub)\n",
    "df2 <- read.csv('https://raw.githubusercontent.com/byounginger/Practice_code/master/Datasets/sample.csv', \n",
    "               stringsAsFactors=FALSE)\n",
    "\n",
    "df2 \n",
    "\n",
    "# Create boolean of column of interest that contains desired string\n",
    "rows <- grepl('BUDGET=', df2[,2])\n",
    "\n",
    "# Replace values in another column (Value) with those contained in the first column (Desc)\n",
    "df2[rows,'Value'] <- df2[rows,'Desc']\n",
    "\n",
    "# Check results\n",
    "df2\n"
   ]
  }
 ],
 "metadata": {
  "kernelspec": {
   "display_name": "R",
   "language": "R",
   "name": "ir"
  },
  "language_info": {
   "codemirror_mode": "r",
   "file_extension": ".r",
   "mimetype": "text/x-r-source",
   "name": "R",
   "pygments_lexer": "r",
   "version": "3.6.1"
  }
 },
 "nbformat": 4,
 "nbformat_minor": 4
}
